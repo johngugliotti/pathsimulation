{
 "cells": [
  {
   "cell_type": "code",
   "execution_count": 1,
   "id": "781e54c2-134a-4914-8f63-4ca903cbe4d3",
   "metadata": {},
   "outputs": [
    {
     "name": "stdout",
     "output_type": "stream",
     "text": [
      "             timestamp   latitude   longitude\n",
      "0  2025-10-17T12:00:00  33.195900 -117.379500\n",
      "1  2025-10-17T12:00:05  33.196079 -117.380444\n",
      "2  2025-10-17T12:00:10  33.196258 -117.381387\n",
      "3  2025-10-17T12:00:15  33.196437 -117.382331\n",
      "4  2025-10-17T12:00:20  33.196616 -117.383274\n",
      "                timestamp   latitude   longitude\n",
      "1092  2025-10-17T13:31:00  33.387154 -118.412169\n",
      "1093  2025-10-17T13:31:05  33.387325 -118.413116\n",
      "1094  2025-10-17T13:31:10  33.387496 -118.414064\n",
      "1095  2025-10-17T13:31:15  33.387667 -118.415012\n",
      "1096  2025-10-17T13:31:20  33.387839 -118.415960\n",
      "Generated 1097 points.\n"
     ]
    }
   ],
   "source": [
    "import math\n",
    "import pandas as pd\n",
    "from datetime import datetime, timedelta\n",
    "\n",
    "# Coordinates (latitude, longitude)\n",
    "start = (33.1959, -117.3795)  # Oceanside, CA\n",
    "end = (33.3879, -118.4163)    # Catalina Island\n",
    "\n",
    "start =  (33.3879, -118.4163)    # Catalina Island\n",
    "end = (33.1959, -117.3795)   # Oceanside, CA\n",
    "\n",
    "# Compute great-circle distance (Haversine formula)\n",
    "def haversine_distance(lat1, lon1, lat2, lon2):\n",
    "    R = 6371000  # Earth radius in meters\n",
    "    phi1, phi2 = math.radians(lat1), math.radians(lat2)\n",
    "    dphi = math.radians(lat2 - lat1)\n",
    "    dlambda = math.radians(lon2 - lon1)\n",
    "    a = math.sin(dphi / 2)**2 + math.cos(phi1) * math.cos(phi2) * math.sin(dlambda / 2)**2\n",
    "    return 2 * R * math.atan2(math.sqrt(a), math.sqrt(1 - a))\n",
    "\n",
    "# Calculate bearing\n",
    "def bearing(lat1, lon1, lat2, lon2):\n",
    "    phi1, phi2 = math.radians(lat1), math.radians(lat2)\n",
    "    dlambda = math.radians(lon2 - lon1)\n",
    "    y = math.sin(dlambda) * math.cos(phi2)\n",
    "    x = math.cos(phi1) * math.sin(phi2) - math.sin(phi1) * math.cos(phi2) * math.cos(dlambda)\n",
    "    return (math.degrees(math.atan2(y, x)) + 360) % 360\n",
    "\n",
    "# Compute destination point given start, bearing, and distance\n",
    "def destination_point(lat, lon, bearing_deg, distance_m):\n",
    "    R = 6371000\n",
    "    brng = math.radians(bearing_deg)\n",
    "    phi1 = math.radians(lat)\n",
    "    lambda1 = math.radians(lon)\n",
    "    phi2 = math.asin(math.sin(phi1) * math.cos(distance_m / R) + math.cos(phi1) * math.sin(distance_m / R) * math.cos(brng))\n",
    "    lambda2 = lambda1 + math.atan2(math.sin(brng) * math.sin(distance_m / R) * math.cos(phi1), math.cos(distance_m / R) - math.sin(phi1) * math.sin(phi2))\n",
    "    return math.degrees(phi2), math.degrees(lambda2)\n",
    "\n",
    "# Parameters\n",
    "distance = haversine_distance(*start, *end)\n",
    "brg = bearing(*start, *end)\n",
    "speed_knots = 35  # Boat speed\n",
    "speed_mps = speed_knots * 0.514444  # Convert knots to m/s\n",
    "interval = 5  # seconds\n",
    "step_distance = speed_mps * interval\n",
    "\n",
    "# Generate points\n",
    "total_points = int(distance / step_distance)\n",
    "start_time = datetime(2025, 10, 17, 12, 0, 0)\n",
    "\n",
    "path = []\n",
    "for i in range(total_points + 1):\n",
    "    t = start_time + timedelta(seconds=i * interval)\n",
    "    lat, lon = destination_point(*start, brg, i * step_distance)\n",
    "    path.append({'timestamp': t.isoformat(), 'latitude': lat, 'longitude': lon})\n",
    "\n",
    "# Create DataFrame\n",
    "df = pd.DataFrame(path)\n",
    "print(df.head())\n",
    "print(df.tail())\n",
    "print(f\"Generated {len(df)} points.\")\n",
    "\n",
    "\n",
    "# This script calculates the great‑circle path, outputs intermediate coordinates with timestamps, and displays the first and last few rows from the resulting trajectory.\n"
   ]
  },
  {
   "cell_type": "code",
   "execution_count": null,
   "id": "ee0fa672-2b38-4547-9d6a-10fc56c7815e",
   "metadata": {},
   "outputs": [],
   "source": []
  }
 ],
 "metadata": {
  "kernelspec": {
   "display_name": "Python 3 (ipykernel)",
   "language": "python",
   "name": "python3"
  },
  "language_info": {
   "codemirror_mode": {
    "name": "ipython",
    "version": 3
   },
   "file_extension": ".py",
   "mimetype": "text/x-python",
   "name": "python",
   "nbconvert_exporter": "python",
   "pygments_lexer": "ipython3",
   "version": "3.9.7"
  }
 },
 "nbformat": 4,
 "nbformat_minor": 5
}
